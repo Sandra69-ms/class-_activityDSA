{
  "nbformat": 4,
  "nbformat_minor": 0,
  "metadata": {
    "colab": {
      "provenance": [],
      "authorship_tag": "ABX9TyNDSgZoQoDEP6f3N65QeY/1",
      "include_colab_link": true
    },
    "kernelspec": {
      "name": "python3",
      "display_name": "Python 3"
    },
    "language_info": {
      "name": "python"
    }
  },
  "cells": [
    {
      "cell_type": "markdown",
      "metadata": {
        "id": "view-in-github",
        "colab_type": "text"
      },
      "source": [
        "<a href=\"https://colab.research.google.com/github/Sandra69-ms/class-_activityDSA/blob/main/Sandra_MS_DSAbatch7.ipynb\" target=\"_parent\"><img src=\"https://colab.research.google.com/assets/colab-badge.svg\" alt=\"Open In Colab\"/></a>"
      ]
    },
    {
      "cell_type": "markdown",
      "source": [
        "# Python pratice problems"
      ],
      "metadata": {
        "id": "mSQmwyuAom0v"
      }
    },
    {
      "cell_type": "markdown",
      "source": [
        "Question Number 1"
      ],
      "metadata": {
        "id": "STgnZUAh_KPu"
      }
    },
    {
      "cell_type": "code",
      "execution_count": null,
      "metadata": {
        "colab": {
          "base_uri": "https://localhost:8080/"
        },
        "id": "cZoVqhE7nD4J",
        "outputId": "15d7ace0-2f1b-413a-c5c0-2574cc6f810d"
      },
      "outputs": [
        {
          "output_type": "stream",
          "name": "stdout",
          "text": [
            "Enter the radius of the circle  :7\n",
            "The area of the circle with radius 7.0 is 153.938\n"
          ]
        }
      ],
      "source": [
        "#Write a Python program which accepts the radius of a circle from the user and compute the area.\n",
        "import math\n",
        "radius= float(input(\"Enter the radius of the circle  :\"))\n",
        "area = math.pi * radius ** 2\n",
        "\n",
        "\n",
        "print(f\"The area of the circle with radius {radius} is {area:.3f}\")\n",
        "#math.pi provides a precise value of π.\n",
        "#radius ** 2 squares the radius.\n",
        "#:.3f formats the output to two decimal places for readability.\n",
        "\n",
        "\n",
        "\n"
      ]
    },
    {
      "cell_type": "markdown",
      "source": [
        "Question Number 2"
      ],
      "metadata": {
        "id": "OEDoMMMB_PcG"
      }
    },
    {
      "cell_type": "code",
      "source": [
        "#Write a Python Program to accept the details of a student like name, roll number and mark and display it.\n",
        "\n",
        "Name =input(\"Enter the Student Name  :\")\n",
        "Roll_number = input(\"Enter the Roll number  :\")\n",
        "Mark =float(input(\"Enter the  Mark : \\n\"))\n",
        "\n",
        "\n",
        "print(f\"NAME         :  {Name} \\n\")\n",
        "print(f\"ROLL NUMBER  :  {Roll_number} \\n\")\n",
        "print(f\"MARK         :  {Mark} \\n\")\n",
        "\n",
        "\n",
        "#input()is used to collect data from the user.\n",
        "#float() ensures marks can include decimal values.\n",
        "#The \\n adds a line break for better formatting.\n"
      ],
      "metadata": {
        "colab": {
          "base_uri": "https://localhost:8080/"
        },
        "id": "bnC0E329xOV8",
        "outputId": "5c143d40-4e9f-46f4-8ab7-5ba15dcce4e4"
      },
      "execution_count": null,
      "outputs": [
        {
          "output_type": "stream",
          "name": "stdout",
          "text": [
            "Enter the Student Name  :sandra\n",
            "Enter the Roll number  :6\n",
            "Enter the  Mark : \n",
            "780\n",
            "NAME         :  sandra \n",
            "\n",
            "ROLL NUMBER  :  6 \n",
            "\n",
            "MARK         :  780.0 \n",
            "\n"
          ]
        }
      ]
    },
    {
      "cell_type": "markdown",
      "source": [
        "Question Number 3"
      ],
      "metadata": {
        "id": "oNJ8DK0z_W1L"
      }
    },
    {
      "cell_type": "code",
      "source": [
        "#Write a Python program to get the largest number from a list.\n",
        "\n",
        "num_list = [12,56,78,45,29]\n",
        "largest =0\n",
        "for x in num_list:\n",
        "  if x>largest:\n",
        "    largest =x\n",
        "print(f\"The largest number is {largest}\")\n"
      ],
      "metadata": {
        "colab": {
          "base_uri": "https://localhost:8080/"
        },
        "id": "mh8rFqxxxhs6",
        "outputId": "f8129477-21e6-409d-912e-294dc87c540b"
      },
      "execution_count": null,
      "outputs": [
        {
          "output_type": "stream",
          "name": "stdout",
          "text": [
            "The largest number is 78\n"
          ]
        }
      ]
    },
    {
      "cell_type": "markdown",
      "source": [
        "Question number 4"
      ],
      "metadata": {
        "id": "MPx881v9_asa"
      }
    },
    {
      "cell_type": "code",
      "source": [
        "#Given a range of first 10 numbers, write a Python program to iterate from start number to the end number and print the sum of the current number\n",
        "#and previous number.\n",
        "\n",
        "\n",
        "previous_number = 9\n",
        "for current_number in range(11, 20):\n",
        "    total = current_number + previous_number\n",
        "\n",
        "print(f\"Current Number : {current_number} \\n Previous Number : {previous_number} \\n Sum: {total}\")\n",
        "previous_number = current_number\n",
        "\n",
        "#Starts with previous_number = 9 since there's no number before 1.\n",
        "#Loops from 11 to 20 using range(11, 20).\n",
        "#In each iteration, it prints the current number, the previous number, and their sum.\n",
        "# it updates previous_number to be the current number for the next loop.\n",
        "\n"
      ],
      "metadata": {
        "id": "QVJgFHOCxqsG",
        "colab": {
          "base_uri": "https://localhost:8080/"
        },
        "outputId": "4d91766e-d4df-4f39-f647-a891ab8b9df0"
      },
      "execution_count": null,
      "outputs": [
        {
          "output_type": "stream",
          "name": "stdout",
          "text": [
            "Current Number : 19 \n",
            " Previous Number : 9 \n",
            " Sum: 28\n"
          ]
        }
      ]
    },
    {
      "cell_type": "markdown",
      "source": [
        "Question number 5"
      ],
      "metadata": {
        "id": "i-OaqQwb_dzY"
      }
    },
    {
      "cell_type": "code",
      "source": [
        "# Write a Python program to print only those numbers which are divisible of 5.\n",
        "\n",
        "start = 1\n",
        "end = 50\n",
        "\n",
        "for number in range(start, end + 1):\n",
        "\n",
        "    if number % 5 == 0:\n",
        "        print(number)\n",
        "\n",
        "\n",
        "\n",
        "\n",
        "\n",
        "\n"
      ],
      "metadata": {
        "id": "gGSEgCMYx-VY",
        "colab": {
          "base_uri": "https://localhost:8080/"
        },
        "outputId": "d6a9f6c9-1019-485a-8da8-7a5843dbf092"
      },
      "execution_count": null,
      "outputs": [
        {
          "output_type": "stream",
          "name": "stdout",
          "text": [
            "5\n",
            "10\n",
            "15\n",
            "20\n",
            "25\n",
            "30\n",
            "35\n",
            "40\n",
            "45\n",
            "50\n"
          ]
        }
      ]
    },
    {
      "cell_type": "markdown",
      "source": [
        "Question Number 6"
      ],
      "metadata": {
        "id": "MYrY2_rp_gio"
      }
    },
    {
      "cell_type": "code",
      "source": [
        "# Write a Python program to check whether a number is prime or not.\n",
        "\n",
        "def is_prime(number):\n",
        "    if number <= 1:\n",
        "        return False\n",
        "    for i in range(2, int(number ** 0.5) + 1):\n",
        "        if number % i == 0:\n",
        "            return False\n",
        "    return True\n",
        "\n",
        "num = int(input(\"Enter a number: \"))\n",
        "\n",
        "if is_prime(num):\n",
        "    print(f\"{num} is a prime number.\")\n",
        "else:\n",
        "    print(f\"{num} is not a prime number.\")\n",
        "\n",
        "\n",
        "\n",
        "#Numbers less than or equal to 1 are not prime.\n",
        "#It checks divisibility from 2 up to the square root of the number — a smart optimization\n",
        "#If any divisor is found, it returns False; otherwise, it's prim\n"
      ],
      "metadata": {
        "id": "FO2m5ODJyID4",
        "colab": {
          "base_uri": "https://localhost:8080/"
        },
        "outputId": "8d9d2b3a-c6c9-44bd-b553-6c6e23041e1c"
      },
      "execution_count": null,
      "outputs": [
        {
          "output_type": "stream",
          "name": "stdout",
          "text": [
            "Enter a number: 7\n",
            "7 is a prime number.\n"
          ]
        }
      ]
    },
    {
      "cell_type": "markdown",
      "source": [
        "Question Number 7"
      ],
      "metadata": {
        "id": "q6PfRnLk_jpg"
      }
    },
    {
      "cell_type": "code",
      "source": [
        "# Write a Python program to reverse a list using for loop.\n",
        "\n",
        "\n",
        "original_list = [15,20,25,30,35,40,45,50,55,60,65,70,75,80,85,90]\n",
        "\n",
        "reversed_list = []\n",
        "\n",
        "for i in range(len(original_list) - 1, -1, -1):\n",
        "    reversed_list.append(original_list[i])\n",
        "\n",
        "\n",
        "print(\"Reversed List:\", reversed_list)\n",
        "\n",
        "\n",
        "#range(len(original_list) - 1, -1, -1) starts from the last index and goes backward.\n",
        "#Each element is appended to reversed_list, building the reversed version step by step.\n",
        "\n"
      ],
      "metadata": {
        "id": "ZfVkrSzYyQlE",
        "colab": {
          "base_uri": "https://localhost:8080/"
        },
        "outputId": "28741b30-3429-47bf-c107-6978b16b6e46"
      },
      "execution_count": null,
      "outputs": [
        {
          "output_type": "stream",
          "name": "stdout",
          "text": [
            "Reversed List: [90, 85, 80, 75, 70, 65, 60, 55, 50, 45, 40, 35, 30, 25, 20, 15]\n"
          ]
        }
      ]
    },
    {
      "cell_type": "markdown",
      "source": [
        "Question number 8"
      ],
      "metadata": {
        "id": "tpn4ycMa_nHN"
      }
    },
    {
      "cell_type": "code",
      "source": [
        "#Write a Python program to print the following pattern.\n",
        "#*\n",
        "#**\n",
        "#***\n",
        "#****\n",
        "\n",
        "\n",
        "pattern_lines = [1, 2, 3, 4]\n",
        "\n",
        "\n",
        "for count in pattern_lines:\n",
        "    print('*' * count)\n",
        "\n",
        "\n",
        "#The list pattern_lines defines how many stars to print on each line.\n",
        "#The loop prints '*' * count to repeat the asterisk the desired number of times.\n",
        "\n",
        "\n"
      ],
      "metadata": {
        "colab": {
          "base_uri": "https://localhost:8080/"
        },
        "id": "oT6cHHaIx_66",
        "outputId": "55fbe4c5-e25c-46bb-b6f4-16e2d11b65cb"
      },
      "execution_count": null,
      "outputs": [
        {
          "output_type": "stream",
          "name": "stdout",
          "text": [
            "*\n",
            "**\n",
            "***\n",
            "****\n"
          ]
        }
      ]
    },
    {
      "cell_type": "markdown",
      "source": [
        "Question number 9"
      ],
      "metadata": {
        "id": "nPmoDc8O_qeb"
      }
    },
    {
      "cell_type": "code",
      "source": [
        "#  Write a Python program to find the maximum of three numbers\n",
        "\n",
        "def find_max(A,B,C):\n",
        "  return max(A,B,C)\n",
        "\n",
        "num1=float(input(\"Enter the first number  : \"))\n",
        "num2=float(input(\"Enter the second number : \"))\n",
        "num3=float(input(\"Enter the third number  : \"))\n",
        "\n",
        "maximum = find_max(num1, num2, num3)\n",
        "print(\"The maximum number is:\", {maximum})\n",
        "\n",
        "#The max() function compares all three numbers and returns the largest.\n",
        "#float(input(...)) allows the user to enter decimal or whole numbers.\n"
      ],
      "metadata": {
        "id": "xIKFC7Xxyk84",
        "colab": {
          "base_uri": "https://localhost:8080/"
        },
        "outputId": "706f9732-16cc-40f5-b9a5-4487a374bdf0"
      },
      "execution_count": null,
      "outputs": [
        {
          "output_type": "stream",
          "name": "stdout",
          "text": [
            "Enter the first number  : 9\n",
            "Enter the second number : 8\n",
            "Enter the third number  : 0\n",
            "The maximum number is: {9.0}\n"
          ]
        }
      ]
    },
    {
      "cell_type": "markdown",
      "source": [
        "Question number 10"
      ],
      "metadata": {
        "id": "k3FdqO9Y_tbT"
      }
    },
    {
      "cell_type": "code",
      "source": [
        "# Write a Python program to construct the following pattern, using a nested for loop.\n",
        "\n",
        "# Upper part of the pattern\n",
        "for i in range(1, 6):\n",
        "    for j in range(i):\n",
        "        print('*', end='')\n",
        "    print()\n",
        "\n",
        "# Lower part of the pattern\n",
        "for i in range(4, 0, -1):\n",
        "    for j in range(i):\n",
        "        print('*', end='')\n",
        "    print()\n",
        "\n",
        "\n",
        "\n",
        "#the first loop builds the ascending part of the pattern (1 to 5 stars).\n",
        "#The second loop builds the descending part (4 to 1 stars).\n",
        "#print('*', end='') prints stars on the same line.\n",
        "#print() moves to the next line after each row.\n",
        "\n",
        "\n"
      ],
      "metadata": {
        "id": "7hQMS2bRywMu",
        "colab": {
          "base_uri": "https://localhost:8080/"
        },
        "outputId": "f91e9397-2084-45aa-8580-f6d592465f37"
      },
      "execution_count": null,
      "outputs": [
        {
          "output_type": "stream",
          "name": "stdout",
          "text": [
            "*\n",
            "**\n",
            "***\n",
            "****\n",
            "*****\n",
            "****\n",
            "***\n",
            "**\n",
            "*\n"
          ]
        }
      ]
    },
    {
      "cell_type": "markdown",
      "source": [
        "1,Positive, Negative, or Zero"
      ],
      "metadata": {
        "id": "tZ9nnhBV4dHt"
      }
    },
    {
      "cell_type": "markdown",
      "source": [
        "Question number 11"
      ],
      "metadata": {
        "id": "h1GxhdSr_wO3"
      }
    },
    {
      "cell_type": "code",
      "source": [
        "# positive negative or zero\n",
        "# Write a Python program to check whether a given number is positive, negative, or zero.\n",
        "\n",
        "num = float(input(\"Enter a number: \"))\n",
        "\n",
        "\n",
        "if num > 0:\n",
        "    print(\"The number is positive.\")\n",
        "elif num < 0:\n",
        "    print(\"The number is negative.\")\n",
        "else:\n",
        "    print(\"The number is zero.\")\n"
      ],
      "metadata": {
        "colab": {
          "base_uri": "https://localhost:8080/"
        },
        "id": "dwjlYLrf1QNS",
        "outputId": "0cd30744-a50d-4582-9ab7-0ad40ba54292"
      },
      "execution_count": null,
      "outputs": [
        {
          "output_type": "stream",
          "name": "stdout",
          "text": [
            "Enter a number: 9\n",
            "The number is positive.\n"
          ]
        }
      ]
    },
    {
      "cell_type": "markdown",
      "source": [
        "2, Odd or Even"
      ],
      "metadata": {
        "id": "Kjo6tzN44lEw"
      }
    },
    {
      "cell_type": "markdown",
      "source": [
        "Question number 12"
      ],
      "metadata": {
        "id": "TBrurZ-3_y1F"
      }
    },
    {
      "cell_type": "code",
      "source": [
        "# Write a program that takes an integer as input and prints whether it is odd or even.\n",
        "\n",
        "num = int(input(\"Enter an integer: \"))\n",
        "\n",
        "if num % 2 == 0:\n",
        "    print(\"The number is even.\")\n",
        "else:\n",
        "    print(\"The number is odd.\")\n",
        "\n",
        "#% is the modulus operator — it gives the remainder.\n",
        "#If num % 2 == 0, the number is divisible by 2 → even.\n",
        "#Otherwise → odd.\n"
      ],
      "metadata": {
        "colab": {
          "base_uri": "https://localhost:8080/"
        },
        "id": "NyNIBU-p1_vD",
        "outputId": "2296d195-b180-4c57-b803-a50e12a96c2c"
      },
      "execution_count": null,
      "outputs": [
        {
          "output_type": "stream",
          "name": "stdout",
          "text": [
            "Enter an integer: 8\n",
            "The number is even.\n"
          ]
        }
      ]
    },
    {
      "cell_type": "markdown",
      "source": [
        "3, Grade Checking"
      ],
      "metadata": {
        "id": "l6fxIfG24q22"
      }
    },
    {
      "cell_type": "markdown",
      "source": [
        "question number 13"
      ],
      "metadata": {
        "id": "W3A5k44p_2PI"
      }
    },
    {
      "cell_type": "code",
      "source": [
        "#Take a student's marks as input and print their grade based on the following:\n",
        "# 90-100 → A\n",
        "#80-89 → B\n",
        "#70-79 → C\n",
        "# 60-69 → D\n",
        "#Below 60 → Fail\n",
        "\n",
        "\n",
        "marks = float(input(\"Enter the student's marks (0–100): \"))\n",
        "\n",
        "\n",
        "if 90 <= marks <= 100:\n",
        "    print(\"Grade: A\")\n",
        "elif 80 <= marks < 90:\n",
        "    print(\"Grade: B\")\n",
        "elif 70 <= marks < 80:\n",
        "    print(\"Grade: C\")\n",
        "elif 60 <= marks < 70:\n",
        "    print(\"Grade: D\")\n",
        "elif 0 <= marks < 60:\n",
        "    print(\"Grade: Fail\")\n",
        "else:\n",
        "    print(\"Invalid marks entered. Please enter a value between 0 and 100.\")\n",
        "\n",
        "# if-elif-else to check which range the marks fall into.\n",
        "#It also includes a final else to catch invalid inputs (like negative numbers or values over 100).\n"
      ],
      "metadata": {
        "colab": {
          "base_uri": "https://localhost:8080/"
        },
        "id": "hLEpjPJl2Abw",
        "outputId": "b83616b2-6735-4e55-f64c-454cbcc94840"
      },
      "execution_count": null,
      "outputs": [
        {
          "output_type": "stream",
          "name": "stdout",
          "text": [
            "Enter the student's marks (0–100): 89\n",
            "Grade: B\n"
          ]
        }
      ]
    },
    {
      "cell_type": "markdown",
      "source": [
        "4, Leap year\n",
        "\n",
        "Question number 14"
      ],
      "metadata": {
        "id": "vcSX9uwI4w00"
      }
    },
    {
      "cell_type": "code",
      "source": [
        "#Write a program to check if a given year is a leap year or not.\n",
        "\n",
        "# Get input from the user\n",
        "year = int(input(\"Enter a year: \"))\n",
        "\n",
        "# Check leap year conditions\n",
        "if (year % 4 == 0 and year % 100 != 0) or (year % 400 == 0):\n",
        "    print(year, \"is a leap year.\")\n",
        "else:\n",
        "    print(year, \"is not a leap year.\")\n",
        "\n",
        "\n",
        "#year is a leap year if: cIt is divisible by 4 and not divisible by 100 OR It is divisible by 400"
      ],
      "metadata": {
        "colab": {
          "base_uri": "https://localhost:8080/"
        },
        "id": "ETh8KY5Y2BKq",
        "outputId": "2f4412b3-6d9a-4b3e-e8a8-6bf508e17f09"
      },
      "execution_count": null,
      "outputs": [
        {
          "output_type": "stream",
          "name": "stdout",
          "text": [
            "Enter a year: 2000\n",
            "2000 is a leap year.\n"
          ]
        }
      ]
    },
    {
      "cell_type": "markdown",
      "source": [
        "5,print a number from 1 to N\n",
        "\n",
        "question number 15"
      ],
      "metadata": {
        "id": "nHACHx0d5_o1"
      }
    },
    {
      "cell_type": "code",
      "source": [
        "#  Take an integer input N and print all numbers from 1 to N using a for loop.\n",
        "\n",
        "N = int(input(\"Enter an integer N: \"))\n",
        "\n",
        "\n",
        "for i in range(1, N + 1):\n",
        "    print(i)\n",
        "\n",
        "#range(1, N + 1) generates numbers starting from 1 up to and including N.\n",
        "#Each number is printed on a new line."
      ],
      "metadata": {
        "colab": {
          "base_uri": "https://localhost:8080/"
        },
        "id": "DpUmEXx72BGb",
        "outputId": "72b4d202-089b-468b-dc85-232d4a42aeb0"
      },
      "execution_count": null,
      "outputs": [
        {
          "output_type": "stream",
          "name": "stdout",
          "text": [
            "Enter an integer N: 7\n",
            "1\n",
            "2\n",
            "3\n",
            "4\n",
            "5\n",
            "6\n",
            "7\n"
          ]
        }
      ]
    },
    {
      "cell_type": "markdown",
      "source": [
        "6 , sum of first N natural numbers\n",
        "\n",
        "Question number 16\n",
        "\n"
      ],
      "metadata": {
        "id": "vUCQqWfe6s7o"
      }
    },
    {
      "cell_type": "code",
      "source": [
        "# Write a program that takes an integer N as input and prints the sum of the first N natural numbers.\n",
        "\n",
        "N = int(input(\"Enter an integer N: \"))\n",
        "sum_n = N * (N + 1) // 2\n",
        "print(\"Sum of the first\", N, \"natural numbers is:\", sum_n)\n",
        "\n",
        "\n",
        "# sum =N(N+1)//2 is the formula uses here to claculate the sum of n natural numbers.\n",
        "# // flor division to aviod decimal\n",
        "\n"
      ],
      "metadata": {
        "colab": {
          "base_uri": "https://localhost:8080/"
        },
        "id": "4CndQjq32FwO",
        "outputId": "70210823-668c-4358-c227-3bac33b67152"
      },
      "execution_count": null,
      "outputs": [
        {
          "output_type": "stream",
          "name": "stdout",
          "text": [
            "Enter an integer N: 8\n",
            "Sum of the first 8 natural numbers is: 36\n"
          ]
        }
      ]
    },
    {
      "cell_type": "markdown",
      "source": [
        "7, Multiplication table\n",
        "\n",
        "Question no 17"
      ],
      "metadata": {
        "id": "wRvV5Tuf8Ew2"
      }
    },
    {
      "cell_type": "code",
      "source": [
        "#Take a number as input and print its multiplication table up to 10\n",
        "num = int(input(\"Enter a number: \"))\n",
        "\n",
        "\n",
        "print(f\"Multiplication table for {num}:\")\n",
        "for i in range(1, 11):\n",
        "    print(f\"{num} x {i} = {num * i}\")\n",
        "\n"
      ],
      "metadata": {
        "colab": {
          "base_uri": "https://localhost:8080/"
        },
        "id": "uh7n8sbi2FiH",
        "outputId": "83991658-5a9d-471a-cc57-68ae3df3d796"
      },
      "execution_count": null,
      "outputs": [
        {
          "output_type": "stream",
          "name": "stdout",
          "text": [
            "Enter a number: 7\n",
            "Multiplication table for 7:\n",
            "7 x 1 = 7\n",
            "7 x 2 = 14\n",
            "7 x 3 = 21\n",
            "7 x 4 = 28\n",
            "7 x 5 = 35\n",
            "7 x 6 = 42\n",
            "7 x 7 = 49\n",
            "7 x 8 = 56\n",
            "7 x 9 = 63\n",
            "7 x 10 = 70\n"
          ]
        }
      ]
    },
    {
      "cell_type": "markdown",
      "source": [
        "18,Factorial Calculation"
      ],
      "metadata": {
        "id": "MOgfIvhv9mU4"
      }
    },
    {
      "cell_type": "code",
      "source": [
        "# Write a Python program to calculate the factorial of a given number using a loop.\n",
        "\n",
        "\n",
        "num = int(input(\"Enter a number: \"))\n",
        "\n",
        "factorial = 1\n",
        "\n",
        "if num < 0:\n",
        "    print(\"Factorial is not defined for negative numbers.\")\n",
        "else:\n",
        "    for i in range(1, num + 1):\n",
        "        factorial *= i\n",
        "    print(f\"The factorial of {num} is {factorial}\")\n"
      ],
      "metadata": {
        "colab": {
          "base_uri": "https://localhost:8080/"
        },
        "id": "WXHEo-wv2FUz",
        "outputId": "66954ff6-02df-40ec-daf9-c8045ec7de6d"
      },
      "execution_count": null,
      "outputs": [
        {
          "output_type": "stream",
          "name": "stdout",
          "text": [
            "Enter a number: 9\n",
            "The factorial of 9 is 362880\n"
          ]
        }
      ]
    },
    {
      "cell_type": "markdown",
      "source": [
        "19, Reversing A number"
      ],
      "metadata": {
        "id": "GMPdQKna-SdG"
      }
    },
    {
      "cell_type": "code",
      "source": [
        "#Take an integer input and print its reverse.\n",
        "\n",
        "\n",
        "num = int(input(\"Enter an integer: \"))\n",
        "\n",
        "is_negative = num < 0\n",
        "num = abs(num)\n",
        "\n",
        "reverse = 0\n",
        "while num != 0:\n",
        "    digit = num % 10\n",
        "    reverse = reverse * 10 + digit\n",
        "    num //= 10\n",
        "\n",
        "if is_negative:\n",
        "    reverse = -reverse\n",
        "\n",
        "print(f\"Reversed number: {reverse}\")\n"
      ],
      "metadata": {
        "colab": {
          "base_uri": "https://localhost:8080/"
        },
        "id": "lH-gN-IU2FBy",
        "outputId": "0e6cacb9-2ad9-4f20-afbf-be19fe71809b"
      },
      "execution_count": null,
      "outputs": [
        {
          "output_type": "stream",
          "name": "stdout",
          "text": [
            "Enter an integer: 6\n",
            "Reversed number: 6\n"
          ]
        }
      ]
    },
    {
      "cell_type": "markdown",
      "source": [
        "20, Count digit in number"
      ],
      "metadata": {
        "id": "gouQur9L-9Ha"
      }
    },
    {
      "cell_type": "code",
      "source": [
        "# Write a program that takes a number and prints the count of its digits.\n",
        "\n",
        "num = int(input(\"Enter a number: \"))\n",
        "num_str = str(abs(num)) # abs implies return to absolute value of argument\n",
        "digit_count = len(num_str)\n",
        "\n",
        "print(f\"The number of digits in {num} is {digit_count}\")\n",
        "\n",
        "\n",
        "\n"
      ],
      "metadata": {
        "colab": {
          "base_uri": "https://localhost:8080/"
        },
        "id": "qbgwyDI_2EyK",
        "outputId": "6388828b-47d6-48e7-fcd1-84a26eed4bfd"
      },
      "execution_count": null,
      "outputs": [
        {
          "output_type": "stream",
          "name": "stdout",
          "text": [
            "Enter a number: 9076432\n",
            "The number of digits in 9076432 is 7\n"
          ]
        }
      ]
    },
    {
      "cell_type": "markdown",
      "source": [
        "21 , nested loop"
      ],
      "metadata": {
        "id": "fCvGt6_5FvU8"
      }
    },
    {
      "cell_type": "code",
      "source": [
        " # Take an integer N as input and print a right-angled triangle of stars.\n",
        "\n",
        "\n",
        "\n",
        "N = int(input(\"Enter the number of rows: \"))\n",
        "\n",
        "for i in range(1, N + 1):\n",
        "    print('*' * i)\n",
        "\n",
        "#The loop runs from 1 to N , On each line, it prints i stars using '*' * i.\n",
        "\n"
      ],
      "metadata": {
        "colab": {
          "base_uri": "https://localhost:8080/"
        },
        "id": "qDW-pnAG2EkI",
        "outputId": "fabb8034-673c-4aa8-b866-ecf5440b4c8c"
      },
      "execution_count": null,
      "outputs": [
        {
          "output_type": "stream",
          "name": "stdout",
          "text": [
            "Enter the number of rows: 5\n",
            "*\n",
            "**\n",
            "***\n",
            "****\n",
            "*****\n"
          ]
        }
      ]
    },
    {
      "cell_type": "markdown",
      "source": [
        "22,Number Pyramid pattern\n"
      ],
      "metadata": {
        "id": "rpQaqLkOG4Bt"
      }
    },
    {
      "cell_type": "code",
      "source": [
        "# Write a program that takes an integer N and prints a pyramid pattern.\n",
        "\n",
        "N = int(input(\"Enter the number of rows: \"))\n",
        "\n",
        "for i in range(1, N + 1):\n",
        "    print(' ' * (N - i), end='')\n",
        "\n",
        "    for j in range(1, i + 1):\n",
        "        print(j, end='')\n",
        "\n",
        "    for j in range(i - 1, 0, -1):\n",
        "        print(j, end='')\n",
        "\n",
        "    print()\n",
        "\n",
        "#' ' * (N - i) centers the pyramid.\n",
        "#The first loop prints numbers from 1 to i.\n",
        "#The second loop prints numbers from i-1 down to 1.\n",
        "#end='' ensures the numbers are printed on the same line.\n"
      ],
      "metadata": {
        "colab": {
          "base_uri": "https://localhost:8080/"
        },
        "id": "bY6_wxVo2EVp",
        "outputId": "6467a38f-9b4c-4c2f-80d0-058a44528f1e"
      },
      "execution_count": null,
      "outputs": [
        {
          "output_type": "stream",
          "name": "stdout",
          "text": [
            "Enter the number of rows: 9\n",
            "        1\n",
            "       121\n",
            "      12321\n",
            "     1234321\n",
            "    123454321\n",
            "   12345654321\n",
            "  1234567654321\n",
            " 123456787654321\n",
            "12345678987654321\n"
          ]
        }
      ]
    },
    {
      "cell_type": "markdown",
      "source": [
        " 23, Break Example"
      ],
      "metadata": {
        "id": "AIVCwWUwINuZ"
      }
    },
    {
      "cell_type": "code",
      "source": [
        "# Print the first 5 odd numbers using a loop and break statement.\n",
        "\n",
        "\n",
        "count = 0\n",
        "num = 1\n",
        "\n",
        "while True:\n",
        "    if num % 2 != 0:\n",
        "        print(num)\n",
        "        count += 1\n",
        "    if count == 5:\n",
        "        break\n",
        "    num += 1\n",
        "\n",
        "#Starts from num = 1 and checks if it's odd (num % 2 != 0).\n",
        "#Prints the number and increments the count.\n",
        "#Once 5 odd numbers are printed (count == 5), the loop breaks."
      ],
      "metadata": {
        "colab": {
          "base_uri": "https://localhost:8080/"
        },
        "id": "-TRLFteB2EFq",
        "outputId": "1e83c41a-fc83-4d3e-fe13-5523eab44dc8"
      },
      "execution_count": null,
      "outputs": [
        {
          "output_type": "stream",
          "name": "stdout",
          "text": [
            "1\n",
            "3\n",
            "5\n",
            "7\n",
            "9\n"
          ]
        }
      ]
    },
    {
      "cell_type": "markdown",
      "source": [
        "24,  Continue Example"
      ],
      "metadata": {
        "id": "tPDzckrGJJGR"
      }
    },
    {
      "cell_type": "code",
      "source": [
        "#Print numbers from 1 to 20 but skip the ones that are multiples of 3.\n",
        "\n",
        "\n",
        "for num in range(1, 21):\n",
        "    if num % 3 == 0:\n",
        "        continue\n",
        "    print(num)\n",
        "\n",
        "\n",
        "#range(1, 21) generates numbers from 1 to 20.\n",
        "#if num % 3 == 0: checks for multiples of 3.\n",
        "#continue skips printing those numbers."
      ],
      "metadata": {
        "colab": {
          "base_uri": "https://localhost:8080/"
        },
        "id": "w7iBbbp82D3L",
        "outputId": "747b5c47-d272-47c3-8ae4-72bb72680756"
      },
      "execution_count": null,
      "outputs": [
        {
          "output_type": "stream",
          "name": "stdout",
          "text": [
            "1\n",
            "2\n",
            "4\n",
            "5\n",
            "7\n",
            "8\n",
            "10\n",
            "11\n",
            "13\n",
            "14\n",
            "16\n",
            "17\n",
            "19\n",
            "20\n"
          ]
        }
      ]
    },
    {
      "cell_type": "markdown",
      "source": [
        "25 , pass statement"
      ],
      "metadata": {
        "id": "FqO42phEJT34"
      }
    },
    {
      "cell_type": "code",
      "source": [
        "# Write a program where pass is used in an if condition, but the loop continues\n",
        "\n",
        "for num in range(1, 11):\n",
        "    if num == 8:\n",
        "        pass  # Placeholder: no action taken when num is 5\n",
        "    print(f\"Processing number: {num}\")\n",
        "\n",
        "\n",
        "#pass is  useful when you're planning to add logic later.\n",
        "#Keeps the code syntactically correct without doing anything.\n",
        "\n"
      ],
      "metadata": {
        "colab": {
          "base_uri": "https://localhost:8080/"
        },
        "id": "VDMJ0MM-2Dno",
        "outputId": "090f5b8c-e25c-437d-bcc3-8288bb44833e"
      },
      "execution_count": null,
      "outputs": [
        {
          "output_type": "stream",
          "name": "stdout",
          "text": [
            "Processing number: 1\n",
            "Processing number: 2\n",
            "Processing number: 3\n",
            "Processing number: 4\n",
            "Processing number: 5\n",
            "Processing number: 6\n",
            "Processing number: 7\n",
            "Processing number: 8\n",
            "Processing number: 9\n",
            "Processing number: 10\n"
          ]
        }
      ]
    },
    {
      "cell_type": "markdown",
      "source": [
        "26 , Fibonacci Series"
      ],
      "metadata": {
        "id": "3e3vmpj7MFwR"
      }
    },
    {
      "cell_type": "code",
      "source": [
        "#  Print the first N terms of the Fibonacci sequence.\n",
        "\n",
        "\n",
        "N = int(input(\"Enter the number of terms: \"))\n",
        "a, b = 0, 1\n",
        "print(\"Fibonacci sequence:\")\n",
        "for _ in range(N):\n",
        "    print(a, end=' ')\n",
        "    a, b = b, a + b\n",
        "\n",
        "# Starts with a = 0 and b = 1.\n",
        "# each iteration, prints a and updates a and b to the next pair.\n",
        "#Runs the loop N times to get the first N terms.\n"
      ],
      "metadata": {
        "colab": {
          "base_uri": "https://localhost:8080/"
        },
        "id": "9VoJyTTg2DWF",
        "outputId": "4fa4764f-aec0-47d7-cfae-851b86e3948e"
      },
      "execution_count": null,
      "outputs": [
        {
          "output_type": "stream",
          "name": "stdout",
          "text": [
            "Enter the number of terms: 8\n",
            "Fibonacci sequence:\n",
            "0 1 1 2 3 5 8 13 "
          ]
        }
      ]
    },
    {
      "cell_type": "markdown",
      "source": [
        "27. Check for Prime Number"
      ],
      "metadata": {
        "id": "9Fm0XLF-MGyI"
      }
    },
    {
      "cell_type": "code",
      "source": [
        "#  Write a program to check if a given number is prime.\n",
        "\n",
        "def is_prime(n):\n",
        "    if n <= 1:\n",
        "        return False\n",
        "    if n == 2:\n",
        "        return True\n",
        "    if n % 2 == 0:\n",
        "        return False\n",
        "    for i in range(3, int(n**0.5) + 1, 2):\n",
        "        if n % i == 0:\n",
        "            return False\n",
        "    return True\n",
        "\n",
        "\n",
        "num = int(input(\"Enter a number: \"))\n",
        "\n",
        "if is_prime(num):\n",
        "    print(f\"{num} is a prime number.\")\n",
        "else:\n",
        "    print(f\"{num} is not a prime number.\")\n",
        "\n",
        "\n",
        "\n",
        "#Handles edge cases: numbers ≤ 1 are not prime.\n",
        "#2 is the only even prime number.\n",
        "#Skips even numbers after 2 for efficiency.\n",
        "#Checks divisibility only up to the square root of the number.\n"
      ],
      "metadata": {
        "colab": {
          "base_uri": "https://localhost:8080/"
        },
        "id": "6xCoNTLa2DJW",
        "outputId": "e10eacd0-e79a-4e79-f02d-83ac8f4dd74c"
      },
      "execution_count": null,
      "outputs": [
        {
          "output_type": "stream",
          "name": "stdout",
          "text": [
            "Enter a number: 8\n",
            "8 is not a prime number.\n"
          ]
        }
      ]
    },
    {
      "cell_type": "markdown",
      "source": [
        "28 sum of digits"
      ],
      "metadata": {
        "id": "0HuxowBoMHeV"
      }
    },
    {
      "cell_type": "code",
      "source": [
        "# Write a program to calculate the sum of the digits of a given number.\n",
        "\n",
        "\n",
        "num = int(input(\"Enter a number: \"))\n",
        "\n",
        "digit_sum = 0\n",
        "\n",
        "while num > 0:\n",
        "    digit_sum += num % 10  # Add the last digit\n",
        "    num //= 10             # Remove the last digit\n",
        "\n",
        "print(\"Sum of digits:\", digit_sum)\n",
        "\n",
        "#uses modulo % to get the last digit.\n",
        "#uses integer division // to remove the last digit.\n",
        "#Repeats until all digits are processed.\n"
      ],
      "metadata": {
        "colab": {
          "base_uri": "https://localhost:8080/"
        },
        "id": "3ch-xfuk2C5n",
        "outputId": "45150aa2-611e-4f68-d8f7-3f797cf63391"
      },
      "execution_count": null,
      "outputs": [
        {
          "output_type": "stream",
          "name": "stdout",
          "text": [
            "Enter a number: 987\n",
            "Sum of digits: 24\n"
          ]
        }
      ]
    },
    {
      "cell_type": "markdown",
      "source": [
        "29, Armstrong Number Check"
      ],
      "metadata": {
        "id": "iYfTZuTbMIRB"
      }
    },
    {
      "cell_type": "code",
      "source": [
        "# Check if a given number is an Armstrong number (e.g., 153 → 1³ + 5³ + 3³ = 153).\n",
        "\n",
        "\n",
        "num = int(input(\"Enter a number: \"))\n",
        "num_digits = len(str(num))\n",
        "armstrong_sum = sum(int(digit) ** num_digits for digit in str(num))\n",
        "\n",
        "if armstrong_sum == num:\n",
        "    print(f\"{num} is an Armstrong number.\")\n",
        "else:\n",
        "    print(f\"{num} is not an Armstrong number.\")\n",
        "\n",
        "\n",
        "# Converts the number to a string to easily iterate over digits.\n",
        "#Raises each digit to the power of the total number of digits.\n",
        "#Sums the results and compares it to the original number.\n"
      ],
      "metadata": {
        "colab": {
          "base_uri": "https://localhost:8080/"
        },
        "id": "9ary5BXp2CiQ",
        "outputId": "a8305cce-3861-42b0-ad05-705dc30ec635"
      },
      "execution_count": null,
      "outputs": [
        {
          "output_type": "stream",
          "name": "stdout",
          "text": [
            "Enter a number: 153\n",
            "153 is an Armstrong number.\n"
          ]
        }
      ]
    },
    {
      "cell_type": "markdown",
      "source": [
        " 30. Reverse a String Using Loops"
      ],
      "metadata": {
        "id": "t4MzvHSgM1OW"
      }
    },
    {
      "cell_type": "code",
      "source": [
        "# Take a string as input and print it in reverse order using a loop\n",
        "text = input(\"Enter a string: \")\n",
        "reversed_text = \"\"\n",
        "\n",
        "for i in range(len(text) - 1, -1, -1):\n",
        "    reversed_text += text[i]\n",
        "\n",
        "print(\"Reversed string:\", reversed_text)\n",
        "\n",
        "\n",
        "# range(len(text) - 1, -1, -1) starts from the last index and moves backward.\n",
        "#Each character is added to reversed_text one by one."
      ],
      "metadata": {
        "colab": {
          "base_uri": "https://localhost:8080/"
        },
        "id": "KTTUTryA2CFS",
        "outputId": "b32f2436-da52-4378-d57e-92eefbf7e77f"
      },
      "execution_count": null,
      "outputs": [
        {
          "output_type": "stream",
          "name": "stdout",
          "text": [
            "Enter a string: 98643\n",
            "Reversed string: 34689\n"
          ]
        }
      ]
    },
    {
      "cell_type": "markdown",
      "source": [
        "Question no: 31\n",
        "\n",
        "Welcome Message\n"
      ],
      "metadata": {
        "id": "wVM5tVISzxhD"
      }
    },
    {
      "cell_type": "code",
      "source": [
        "#  Create a program that greets a user by name. Ask for the user's name and printa personalized message, such as \"Welcome to Data Analytics, [Name]\n",
        "\n",
        "\n",
        "user_name = input(\"Please enter your name: \")\n",
        "\n",
        "print(f\"Welcome to Data Analytics, {user_name}\")\n",
        "\n",
        "\n",
        "\n",
        "\n",
        "\n"
      ],
      "metadata": {
        "id": "a6UVSyOh2B1b",
        "colab": {
          "base_uri": "https://localhost:8080/"
        },
        "outputId": "9c4d342d-fd48-4f7f-ed63-975c0c1ec43e"
      },
      "execution_count": null,
      "outputs": [
        {
          "output_type": "stream",
          "name": "stdout",
          "text": [
            "Please enter your name: sandra\n",
            "Welcome to Data Analytics, sandra\n"
          ]
        }
      ]
    },
    {
      "cell_type": "markdown",
      "source": [
        "Question No: 32\n",
        "\n",
        "Favourite Snack\n"
      ],
      "metadata": {
        "id": "2xGSH-a30HQF"
      }
    },
    {
      "cell_type": "code",
      "source": [
        "#  Define a variable for your favorite snack. Print a fun sentence that includes this variable, like \"I love munching on [Snack] during meetings\n",
        "\n",
        "\n",
        "favorite_snack =input(\"Enter the favourite Snack :\")\n",
        "\n",
        "\n",
        "print(f\"I love munching on {favorite_snack} during meetings\")\n",
        "\n",
        "\n",
        "\n",
        "\n"
      ],
      "metadata": {
        "colab": {
          "base_uri": "https://localhost:8080/"
        },
        "id": "PUNhhMrbzqRd",
        "outputId": "b2892343-d7ca-4db3-ba4e-69ed19e1d1f0"
      },
      "execution_count": null,
      "outputs": [
        {
          "output_type": "stream",
          "name": "stdout",
          "text": [
            "Enter the favourite Snack :choclate bar\n",
            "I love munching on choclate bar during meetings\n"
          ]
        }
      ]
    },
    {
      "cell_type": "markdown",
      "source": [
        "Question Number:33\n",
        "\n",
        "Team Productivity"
      ],
      "metadata": {
        "id": "67YyH-uV0sBE"
      }
    },
    {
      "cell_type": "code",
      "source": [
        "# Ifyour team completed 15 tasks in a week and plans to double that next week, calculate and print how many tasks you expect to complete next week.\n",
        "\n",
        "tasks_this_week = 15\n",
        "\n",
        "tasks_next_week = tasks_this_week * 2\n",
        "\n",
        "print(f\"We expected  to complete {tasks_next_week}  tasks  next week\")\n",
        "\n",
        "\n",
        "\n"
      ],
      "metadata": {
        "colab": {
          "base_uri": "https://localhost:8080/"
        },
        "id": "65o47y0ezqBA",
        "outputId": "bb4ef3a3-950a-429b-ecab-881ee8f0501a"
      },
      "execution_count": null,
      "outputs": [
        {
          "output_type": "stream",
          "name": "stdout",
          "text": [
            "We expected  to complete 30  tasks  next week\n"
          ]
        }
      ]
    },
    {
      "cell_type": "markdown",
      "source": [
        "QuestionNo: 34\n",
        "\n",
        "Monthly budject\n",
        "\n"
      ],
      "metadata": {
        "id": "LQ54YER71AqF"
      }
    },
    {
      "cell_type": "code",
      "source": [
        "#Create two variables for income and expenses. Calculate and print your savings for the month using the formula: Savings = Income- Expenses. Use realistic numbers.\n",
        "\n",
        "\n",
        "\n",
        "income =  int(input(\"Enter the income in rupees : \"))\n",
        "expenses = int(input(\"Enter the expenses in Rupees :\"))\n",
        "\n",
        "savings = income - expenses\n",
        "\n",
        "print(f\"Your savings for this  month is ₹{savings}.\")\n",
        "\n"
      ],
      "metadata": {
        "colab": {
          "base_uri": "https://localhost:8080/"
        },
        "id": "wyOFHBxQzpvM",
        "outputId": "763afe00-e70a-479c-b6ef-b564bb5c341d"
      },
      "execution_count": null,
      "outputs": [
        {
          "output_type": "stream",
          "name": "stdout",
          "text": [
            "Enter the income in rupees : 60000\n",
            "Enter the expenses in Rupees :9000\n",
            "Your savings for this  month is ₹51000.\n"
          ]
        }
      ]
    },
    {
      "cell_type": "markdown",
      "source": [
        "Question no: 35\n",
        "\n",
        "Movie Night"
      ],
      "metadata": {
        "id": "M7SgdF8i1Y4u"
      }
    },
    {
      "cell_type": "code",
      "source": [
        "# Imagine you're organizing a movie night. Create variables for the number of friends invited and the number of popcorn bags you need per friends\n",
        "# Calculate the total number of popcorn bags needed\n",
        "\n",
        "\n",
        "\n",
        "num_friends =int(input(\"Enter the number of Friends : \"))\n",
        "\n",
        "popcorn_per_friend =int(input(\"Enter the number of popcorn bag needed per friend  :\"))\n",
        "\n",
        "total_popcorn_bags = num_friends * popcorn_per_friend\n",
        "\n",
        "print(\"Total popcorn bags needed  : \",total_popcorn_bags)\n",
        "\n",
        "\n",
        "\n"
      ],
      "metadata": {
        "colab": {
          "base_uri": "https://localhost:8080/"
        },
        "id": "-zQB0p-4zpcz",
        "outputId": "d2a7e4d8-6521-4ef8-a126-a943faeb62f3"
      },
      "execution_count": null,
      "outputs": [
        {
          "output_type": "stream",
          "name": "stdout",
          "text": [
            "Enter the number of Friends : 6\n",
            "Enter the number of popcorn bag needed per friend  :3\n",
            "Total popcorn bags needed  :  18\n"
          ]
        }
      ]
    },
    {
      "cell_type": "markdown",
      "source": [
        "Question number 36\n",
        "\n",
        "\n",
        "Product Review"
      ],
      "metadata": {
        "id": "BZPxjgG--TcH"
      }
    },
    {
      "cell_type": "code",
      "source": [
        "# Write a program that asks for a product rating (1-5) and checks if the rating is above average (greater than 3). Print a message based on the rating.\n",
        "\n",
        "\n",
        "rating = int(input(\"Please rate the product (1 to 5): \"))\n",
        "\n",
        "if rating > 3:\n",
        "    print(\"Thanks We're glad you liked the product. \")\n",
        "elif rating == 3:\n",
        "    print(\"Thanks for your feedback! We'll keep working to improve. \")\n",
        "else:\n",
        "    print(\"Sorry to hear that. We appreciate your honesty and will do better. \")\n",
        "\n",
        "\n",
        "\n",
        "\n"
      ],
      "metadata": {
        "colab": {
          "base_uri": "https://localhost:8080/"
        },
        "id": "yvrAoJAXzpKF",
        "outputId": "a8d8dc4b-49a1-4e13-f643-aefdb12229e4"
      },
      "execution_count": null,
      "outputs": [
        {
          "output_type": "stream",
          "name": "stdout",
          "text": [
            "Please rate the product (1 to 5): 4\n",
            "Thanks We're glad you liked the product. \n"
          ]
        }
      ]
    },
    {
      "cell_type": "markdown",
      "source": [
        "Question number 37\n",
        "\n",
        "calculate average sale"
      ],
      "metadata": {
        "id": "4cqmZrSVBpn3"
      }
    },
    {
      "cell_type": "code",
      "source": [
        "# You sold 50 items last month, 75 items this month, and 100 items next month.Write a program to calculate the average number of items sold over these three months.\n",
        "\n",
        "\n",
        "last_month = 50\n",
        "this_month = 75\n",
        "next_month = 100\n",
        "\n",
        "\n",
        "average_sales = (last_month + this_month + next_month) / 3\n",
        "\n",
        "print(\"Average items sold over the three months:\", average_sales)\n",
        "\n",
        "\n",
        "\n"
      ],
      "metadata": {
        "colab": {
          "base_uri": "https://localhost:8080/"
        },
        "id": "ic84TyoJzo6m",
        "outputId": "64f0ab80-e7db-4c16-c166-1e6e24266840"
      },
      "execution_count": null,
      "outputs": [
        {
          "output_type": "stream",
          "name": "stdout",
          "text": [
            "Average items sold over the three months: 75.0\n"
          ]
        }
      ]
    },
    {
      "cell_type": "markdown",
      "source": [
        "Question number 38\n",
        "\n",
        "simple investment return"
      ],
      "metadata": {
        "id": "N7LhaNurCAbZ"
      }
    },
    {
      "cell_type": "code",
      "source": [
        "# Ifyou invest $500 with a return rate of 4% per year for 3 years, calculate and print the total amount you will have using simple interest\n",
        "\n",
        "\n",
        "principal = 500\n",
        "rate = 4\n",
        "time = 3\n",
        "simple_interest = (principal * rate * time) / 100\n",
        "total_amount = principal + simple_interest\n",
        "\n",
        "print(\"Total amount after 3 years:\", total_amount)\n",
        "\n",
        "\n"
      ],
      "metadata": {
        "colab": {
          "base_uri": "https://localhost:8080/"
        },
        "id": "L8CexU9Szoom",
        "outputId": "4dd23d9d-7938-465c-df8f-91d8df4be191"
      },
      "execution_count": null,
      "outputs": [
        {
          "output_type": "stream",
          "name": "stdout",
          "text": [
            "Total amount after 3 years: 560.0\n"
          ]
        }
      ]
    },
    {
      "cell_type": "markdown",
      "source": [
        "Question number 39\n",
        "\n",
        "party planing"
      ],
      "metadata": {
        "id": "zHQhOFOCCR85"
      }
    },
    {
      "cell_type": "code",
      "source": [
        "#  Foraparty, calculate how much cake you need if each guest (you have 10) eats 1 slice and each cake has 8 slices. Print how many cakes you need.\n",
        "\n",
        "\n",
        "number_of_guests = 10\n",
        "slices_per_guests = 1\n",
        "total_slices =  number_of_guests * slices_per_guests\n",
        "slices_per_cake = 8\n",
        "cakes_needed = (total_slices + slices_per_cake - 1) // slices_per_cake\n",
        "\n",
        "print(f\"You need {cakes_needed} cake(s) for the party.\")\n",
        "\n"
      ],
      "metadata": {
        "colab": {
          "base_uri": "https://localhost:8080/"
        },
        "id": "jpAStAmFzoVj",
        "outputId": "03124075-be1c-4f1b-b96b-c9222e7494ff"
      },
      "execution_count": null,
      "outputs": [
        {
          "output_type": "stream",
          "name": "stdout",
          "text": [
            "You need 2 cake(s) for the party.\n"
          ]
        }
      ]
    },
    {
      "cell_type": "markdown",
      "source": [
        "Question number 40\n",
        "\n",
        "Text Analysis"
      ],
      "metadata": {
        "id": "tVp8nJFiClFH"
      }
    },
    {
      "cell_type": "code",
      "source": [
        "# Write a program that analyzes a short text of your choice (like a company slogan) and checks if it has more than 10 characters. Print a fun message based on this check.\n",
        "\n",
        "\n",
        "text = input(\"Enter the company slogan : \")\n",
        "\n",
        "\n",
        "if len(text) > 10:\n",
        "    print(\" That's a bold and powerfull slogan\")\n",
        "else:\n",
        "    print(\"Short and sweet—just how we like it\")\n",
        "\n"
      ],
      "metadata": {
        "colab": {
          "base_uri": "https://localhost:8080/"
        },
        "id": "4957jD3OzoIM",
        "outputId": "a5c86143-14ad-4505-b0fa-dc18ce27cda5"
      },
      "execution_count": null,
      "outputs": [
        {
          "output_type": "stream",
          "name": "stdout",
          "text": [
            "Enter the company slogan : red bull keeps you wings\n",
            " That's a bold and powerfull slogan\n"
          ]
        }
      ]
    },
    {
      "cell_type": "markdown",
      "source": [
        "Question 41\n",
        "\n",
        "best selling product\n"
      ],
      "metadata": {
        "id": "IAcyC8OyFuJJ"
      }
    },
    {
      "cell_type": "code",
      "source": [
        "#  Imagine you have two products with sales figures: product_A_sales = 250 and product_B_sales = 300. Write a program to determine which product sold more.\n",
        "\n",
        "\n",
        "product_A_sales = int(input(\"Enter the Value of product A :\"))\n",
        "product_B_sales = int(input(\"Enter the value of Product B :\"))\n",
        "\n",
        "if product_A_sales > product_B_sales:\n",
        "    print(\" Product A is the sales champion\")\n",
        "elif product_B_sales > product_A_sales:\n",
        "    print(\"Product B takes the lead in sales\")\n",
        "else:\n",
        "    print(\" It's a tie Both products sold equally well.\")\n",
        "\n"
      ],
      "metadata": {
        "colab": {
          "base_uri": "https://localhost:8080/"
        },
        "id": "ZAJQAnGmzn25",
        "outputId": "32ebfd78-8f3f-4f76-b680-d08960a1b97d"
      },
      "execution_count": null,
      "outputs": [
        {
          "output_type": "stream",
          "name": "stdout",
          "text": [
            "Enter the Value of product A :790\n",
            "Enter the value of Product B :900\n",
            "Product B takes the lead in sales\n"
          ]
        }
      ]
    },
    {
      "cell_type": "markdown",
      "source": [
        "Question number  42\n",
        "\n",
        "Scholarship percentage\n"
      ],
      "metadata": {
        "id": "_z93PPqaGvhe"
      }
    },
    {
      "cell_type": "code",
      "source": [
        "# If a student received $750 out of a total of $1000 as a scholarship, calculate the percentage of the scholarship and print a congratulatory message\n",
        "\n",
        "received_amount = int(input(\"Enter the recived amount :\"))\n",
        "total_amount = int(input(\"Enter the total amount : \"))\n",
        "\n",
        "percentage = (received_amount / total_amount) * 100\n",
        "print(f\" Congratulations! You received {percentage:.1f}% of the scholarship \")\n",
        "\n"
      ],
      "metadata": {
        "colab": {
          "base_uri": "https://localhost:8080/"
        },
        "id": "bHVqX3n4znoY",
        "outputId": "70328d71-8288-4e1f-e722-3dfc94f64bdf"
      },
      "execution_count": null,
      "outputs": [
        {
          "output_type": "stream",
          "name": "stdout",
          "text": [
            "Enter the recived amount :6000\n",
            "Enter the total amount : 7900\n",
            " Congratulations! You received 75.9% of the scholarship \n"
          ]
        }
      ]
    },
    {
      "cell_type": "markdown",
      "source": [
        "Question number: 43\n",
        "\n",
        "Variable Assignment\n",
        "\n",
        "\n",
        "\n"
      ],
      "metadata": {
        "id": "j8X0cfreH3sB"
      }
    },
    {
      "cell_type": "code",
      "source": [
        "#  Create a variable named favorite_color and assign it your favorite color.Print the variables.\n",
        "\n",
        "favorite_color = input(\"Enter the favourite colour : \")\n",
        "print(f\"Favourite colour is {favorite_color}  \")\n"
      ],
      "metadata": {
        "id": "OMTc7xAMznW8",
        "colab": {
          "base_uri": "https://localhost:8080/"
        },
        "outputId": "8a078157-e7e1-46a5-ede0-5e26dd8cd644"
      },
      "execution_count": null,
      "outputs": [
        {
          "output_type": "stream",
          "name": "stdout",
          "text": [
            "Enter the favourite colour : red\n",
            "Favourite colour is red  \n"
          ]
        }
      ]
    },
    {
      "cell_type": "markdown",
      "source": [
        "Question number:44\n",
        "\n",
        "Basic Arithematics\n"
      ],
      "metadata": {
        "id": "-ImaAg7yiNhP"
      }
    },
    {
      "cell_type": "code",
      "source": [
        "# Calculate the sum of two numbers, a = 10 and b = 20, and print the result\n",
        "\n",
        "A = 10\n",
        "B = 20\n",
        "sum = A+B\n",
        "print(sum)\n",
        "\n"
      ],
      "metadata": {
        "id": "A-IqzacLznD1",
        "colab": {
          "base_uri": "https://localhost:8080/"
        },
        "outputId": "cd9f8fa2-c94e-48f5-b44c-63fb1f211cf4"
      },
      "execution_count": null,
      "outputs": [
        {
          "output_type": "stream",
          "name": "stdout",
          "text": [
            "30\n"
          ]
        }
      ]
    },
    {
      "cell_type": "markdown",
      "source": [
        "Question number:45\n",
        "\n",
        "Area of a rectangle"
      ],
      "metadata": {
        "id": "0XbVCoB3jCyJ"
      }
    },
    {
      "cell_type": "code",
      "source": [
        "# Create variables for the length and width of a rectangle. Calculate and print the area.\n",
        "\n",
        "length =int(input(\"Enter the length of Rectangle :\"))\n",
        "breadth =int(input(\"Enter the breadth of Rectangle : \"))\n",
        "area_of_rectangle =length*breadth\n",
        "print(f\"The area of rectangle is {area_of_rectangle}\")\n"
      ],
      "metadata": {
        "id": "vIfcPPAZzmxl",
        "colab": {
          "base_uri": "https://localhost:8080/"
        },
        "outputId": "1c803f24-aeb1-48ed-aa0d-f608e386975e"
      },
      "execution_count": null,
      "outputs": [
        {
          "output_type": "stream",
          "name": "stdout",
          "text": [
            "Enter the length of Rectangle :6\n",
            "Enter the breadth of Rectangle : 4\n",
            "The area of rectangle is 24\n"
          ]
        }
      ]
    },
    {
      "cell_type": "markdown",
      "source": [
        "Question Number:46\n",
        "\n",
        "Even or odd"
      ],
      "metadata": {
        "id": "4j6Won7ekJkY"
      }
    },
    {
      "cell_type": "code",
      "source": [
        "#  Write a program that checks if a number (e.g., num = 15) is even or odd\n",
        "\n",
        "\n",
        "num = int(input(\"Enter the number   :  \"))\n",
        "\n",
        "if num % 2 == 0:\n",
        "    print(f\"{num} is even.\")\n",
        "else:\n",
        "    print(f\"{num} is odd.\")\n",
        "\n",
        "\n",
        "#% is the modulo operator, which gives the remainder.\n",
        "#If the remainder when dividing by 2 is 0, the number is even. Otherwise, it's odd.\n"
      ],
      "metadata": {
        "id": "JUGjzXuszmU4",
        "colab": {
          "base_uri": "https://localhost:8080/"
        },
        "outputId": "96e96559-47f3-47b2-ca1c-dee064f20209"
      },
      "execution_count": null,
      "outputs": [
        {
          "output_type": "stream",
          "name": "stdout",
          "text": [
            "Enter the number   :  7\n",
            "7 is odd.\n"
          ]
        }
      ]
    },
    {
      "cell_type": "markdown",
      "source": [
        "Question number: 47\n",
        "\n",
        "calculate Average\n",
        "\n",
        "\n",
        "\n"
      ],
      "metadata": {
        "id": "RGrCcSIPlNJZ"
      }
    },
    {
      "cell_type": "code",
      "source": [
        "#Create a program that calculates the average of three numbers: 10, 20, and 30,and prints the result.\n",
        "\n",
        "num1 = 10\n",
        "num2 = 20\n",
        "num3 = 30\n",
        "\n",
        "average = (num1 + num2 + num3) / 3\n",
        "print(\"The average is:\", average)\n"
      ],
      "metadata": {
        "id": "HwE4dHRizl7r",
        "colab": {
          "base_uri": "https://localhost:8080/"
        },
        "outputId": "80f5b228-8324-4e5e-8598-d5a7242bb750"
      },
      "execution_count": null,
      "outputs": [
        {
          "output_type": "stream",
          "name": "stdout",
          "text": [
            "The average is: 20.0\n"
          ]
        }
      ]
    },
    {
      "cell_type": "markdown",
      "source": [
        "Question number 48\n",
        "\n",
        "Area of a circle\n"
      ],
      "metadata": {
        "id": "CaaGTylSlyoy"
      }
    },
    {
      "cell_type": "code",
      "source": [
        "#  Create a program that calculates the area of a circle with a radius of 7. Use the formula: Area=π×r2\\text{Area} = \\pi \\times r^2Area=π×r2\n",
        "\n",
        "\n",
        "import math\n",
        "\n",
        "radius = 7\n",
        "area = math.pi * radius ** 2\n",
        "\n",
        "print(\"The area of the circle is:\", area)\n"
      ],
      "metadata": {
        "id": "lmhRtg4wzlds",
        "colab": {
          "base_uri": "https://localhost:8080/"
        },
        "outputId": "61aa8053-efdf-4c29-dfc7-a54abeb228fa"
      },
      "execution_count": null,
      "outputs": [
        {
          "output_type": "stream",
          "name": "stdout",
          "text": [
            "The area of the circle is: 153.93804002589985\n"
          ]
        }
      ]
    },
    {
      "cell_type": "markdown",
      "source": [
        "Question number 49\n",
        "\n",
        "check string length"
      ],
      "metadata": {
        "id": "K0jsGPANmTaf"
      }
    },
    {
      "cell_type": "code",
      "source": [
        "# Write a program that checks if a given string text = \"Python\" has more than 6 characters\n",
        "\n",
        "\n",
        "text = \"Python\"\n",
        "\n",
        "if len(text) > 6:\n",
        "    print(\"The string has more than 6 characters.\")\n",
        "else:\n",
        "    print(\"The string does not have more than 6 characters.\")\n",
        "\n",
        "\n",
        "# len(text) returns the number of characters in the string.\n",
        "#The if statement checks if that number is greater than 6"
      ],
      "metadata": {
        "id": "xiZkh09rzk85",
        "colab": {
          "base_uri": "https://localhost:8080/"
        },
        "outputId": "081de2fb-21c3-4ce2-bea3-85a60d1c2d8c"
      },
      "execution_count": null,
      "outputs": [
        {
          "output_type": "stream",
          "name": "stdout",
          "text": [
            "The string does not have more than 6 characters.\n"
          ]
        }
      ]
    },
    {
      "cell_type": "markdown",
      "source": [
        "Question number 50\n",
        "\n",
        "Find the maximum of two  numbers"
      ],
      "metadata": {
        "id": "P6GBfxs0nJ7K"
      }
    },
    {
      "cell_type": "code",
      "source": [
        "# Write a program that finds the maximum of two numbers, num1 = 15 and num2 = 25.\n",
        "\n",
        "num1 = 15\n",
        "num2 = 25\n",
        "\n",
        "if num1 > num2:\n",
        "    print(\"The maximum number is:\", num1)\n",
        "else:\n",
        "    print(\"The maximum number is:\", num2)\n",
        "\n",
        "\n",
        "\n"
      ],
      "metadata": {
        "id": "Xe04rgZizknB",
        "colab": {
          "base_uri": "https://localhost:8080/"
        },
        "outputId": "2616d779-a6da-4af6-dcea-7593f8eb2661"
      },
      "execution_count": null,
      "outputs": [
        {
          "output_type": "stream",
          "name": "stdout",
          "text": [
            "The maximum number is: 25\n"
          ]
        }
      ]
    },
    {
      "cell_type": "markdown",
      "source": [
        "Question number 51\n",
        "\n",
        "calculate percentage"
      ],
      "metadata": {
        "id": "VDHx58Lknt__"
      }
    },
    {
      "cell_type": "code",
      "source": [
        "# Write a program that calculates the percentage of a student's marks. If the total marks are 500 and the obtained marks are 400, print the percentage .\n",
        "\n",
        "total_marks = 500\n",
        "obtained_marks = 400\n",
        "\n",
        "percentage = (obtained_marks / total_marks) * 100\n",
        "print(\"The percentage is:\", percentage, \"%\")\n",
        "\n",
        "\n"
      ],
      "metadata": {
        "colab": {
          "base_uri": "https://localhost:8080/"
        },
        "id": "4nyuHjlTnJYJ",
        "outputId": "c3650e93-1869-4bef-8856-9e2a0d9e9636"
      },
      "execution_count": null,
      "outputs": [
        {
          "output_type": "stream",
          "name": "stdout",
          "text": [
            "The percentage is: 80.0 %\n"
          ]
        }
      ]
    }
  ]
}